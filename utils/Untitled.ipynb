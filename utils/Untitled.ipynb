{
 "cells": [
  {
   "cell_type": "code",
   "execution_count": 64,
   "id": "48fc0503",
   "metadata": {},
   "outputs": [],
   "source": [
    "import numpy as np\n",
    "import matplotlib.pyplot as plt\n",
    "from scipy.spatial.transform import Rotation as R"
   ]
  },
  {
   "cell_type": "code",
   "execution_count": 55,
   "id": "f6f17067",
   "metadata": {},
   "outputs": [],
   "source": [
    "def get_cand_nodes(pos, rot, edge_range):\n",
    "    cand_angles = [0, -30, 30]\n",
    "    rot_axis = np.array([0, 1, 0])\n",
    "\n",
    "    node_poses = []\n",
    "    for angle in cand_angles:\n",
    "        rot_vec = np.radians(-angle) * rot_axis\n",
    "        unit_vec = -np.array([np.sin(rot_vec[1]), 0, np.cos(rot_vec[1])])\n",
    "        cand_pos = pos + unit_vec * edge_range\n",
    "        node_poses.append(cand_pos)\n",
    "    return node_poses"
   ]
  },
  {
   "cell_type": "code",
   "execution_count": 61,
   "id": "dec54b0a",
   "metadata": {},
   "outputs": [],
   "source": [
    "pos = np.zeros(3)\n",
    "# rot = np.zeros(3)\n",
    "rot = np.array([0, np.deg2rad(30), 0])\n",
    "edge_range = 1.\n",
    "\n",
    "node_poses = get_cand_nodes(pos, rot, edge_range)"
   ]
  },
  {
   "cell_type": "code",
   "execution_count": 87,
   "id": "9706e844",
   "metadata": {},
   "outputs": [
    {
     "data": {
      "text/plain": [
       "array([0.        , 0.52359878, 0.        ])"
      ]
     },
     "execution_count": 87,
     "metadata": {},
     "output_type": "execute_result"
    }
   ],
   "source": [
    "np.radians(30) * np.array([0, 1, 0])"
   ]
  },
  {
   "cell_type": "code",
   "execution_count": 92,
   "id": "515b2e77",
   "metadata": {},
   "outputs": [
    {
     "name": "stdout",
     "output_type": "stream",
     "text": [
      "-0.0\n",
      "0.5235987755982988\n",
      "-0.5235987755982988\n"
     ]
    }
   ],
   "source": [
    "for pose in node_poses:\n",
    "    print(-np.arctan2(pose[0], -pose[2]))"
   ]
  },
  {
   "cell_type": "code",
   "execution_count": 93,
   "id": "a09f8159",
   "metadata": {},
   "outputs": [
    {
     "name": "stdout",
     "output_type": "stream",
     "text": [
      "-0.0\n",
      "29.999999999999996\n",
      "-29.999999999999996\n",
      "-0.0\n",
      "14.999999999999998\n",
      "-14.999999999999998\n",
      "29.999999999999996\n",
      "-29.999999999999996\n",
      "-0.0\n",
      "9.8960906389829\n",
      "-9.8960906389829\n",
      "20.103909361017095\n",
      "-20.103909361017095\n",
      "29.999999999999996\n",
      "-29.999999999999996\n",
      "-0.0\n",
      "7.369259787569941\n",
      "-7.369259787569941\n",
      "14.999999999999998\n",
      "-14.999999999999998\n",
      "22.63074021243005\n",
      "-22.63074021243005\n",
      "29.999999999999996\n",
      "-29.999999999999996\n",
      "-0.0\n",
      "5.866738789543951\n",
      "-5.866738789543951\n",
      "11.932462708024955\n",
      "-11.932462708024955\n",
      "18.067537291975043\n",
      "-18.067537291975043\n",
      "24.133261210456045\n",
      "-24.133261210456045\n",
      "29.999999999999993\n",
      "-29.999999999999993\n"
     ]
    }
   ],
   "source": [
    "total_node_poses = node_poses.copy()\n",
    "target_poses = node_poses.copy()\n",
    "next_target_poses = node_poses.copy()\n",
    "\n",
    "for j in range(4):\n",
    "    target_poses = next_target_poses\n",
    "    next_target_poses = []\n",
    "    \n",
    "    for node_pose in target_poses:\n",
    "        done_poses.append(node_pose)\n",
    "        temp_node_poses = get_cand_nodes(node_pose, rot, edge_range)\n",
    "        for temp_node_pose in temp_node_poses:\n",
    "            if min(np.linalg.norm(np.array(total_node_poses) - temp_node_pose, axis=1)) > 0.5:\n",
    "                total_node_poses.append(temp_node_pose)\n",
    "                next_target_poses.append(temp_node_pose)\n",
    "\n",
    "total_node_rots = []\n",
    "for pose in total_node_poses:\n",
    "    total_node_rots.append(-np.arctan2(pose[0], -pose[2]))\n",
    "#     print(np.rad2deg(-np.arctan2(pose[0], -pose[2])))"
   ]
  },
  {
   "cell_type": "code",
   "execution_count": 97,
   "id": "6ec74c3a",
   "metadata": {},
   "outputs": [
    {
     "data": {
      "text/plain": [
       "35"
      ]
     },
     "execution_count": 97,
     "metadata": {},
     "output_type": "execute_result"
    }
   ],
   "source": [
    "len(total_node_poses)"
   ]
  },
  {
   "cell_type": "code",
   "execution_count": 77,
   "id": "6d218a70",
   "metadata": {},
   "outputs": [],
   "source": [
    "rot_vec = np.array([0, np.deg2rad(90), 0])\n",
    "rot = R.from_rotvec(rot_vec)\n",
    "rot.as_matrix()\n",
    "rot_node_poses = rot.apply(np.array(total_node_poses))"
   ]
  },
  {
   "cell_type": "code",
   "execution_count": 78,
   "id": "84cc5350",
   "metadata": {},
   "outputs": [
    {
     "name": "stdout",
     "output_type": "stream",
     "text": [
      "Minimum Euclidean Distance: 0.5176380902050411\n"
     ]
    }
   ],
   "source": [
    "min_distance = float('inf')\n",
    "for i in range(len(rot_node_poses)):\n",
    "    for j in range(i+1, len(rot_node_poses)):\n",
    "        distance = np.linalg.norm(rot_node_poses[i] - rot_node_poses[j])\n",
    "        if distance < min_distance:\n",
    "            min_distance = distance\n",
    "\n",
    "print(\"Minimum Euclidean Distance:\", min_distance)"
   ]
  },
  {
   "cell_type": "code",
   "execution_count": 79,
   "id": "0f959a2a",
   "metadata": {},
   "outputs": [
    {
     "data": {
      "image/png": "[encoded data removed]",
      "text/plain": [
       "<Figure size 432x288 with 1 Axes>"
      ]
     },
     "metadata": {
      "needs_background": "light"
     },
     "output_type": "display_data"
    }
   ],
   "source": [
    "plt.scatter(np.array(rot_node_poses)[:,0], np.array(rot_node_poses)[:,2], color='b')\n",
    "plt.scatter(pos[0], pos[2], color='r')\n",
    "plt.xlim(-6, 6)\n",
    "plt.ylim(-6, 6)\n",
    "plt.show()"
   ]
  },
  {
   "cell_type": "code",
   "execution_count": null,
   "id": "a3b0acff",
   "metadata": {},
   "outputs": [],
   "source": [
    "def get_cand_node_dirc(self, pano_rgb, depth, pos, rot, vis_pos=None):\n",
    "\n",
    "    ## rot is rotation vector\n",
    "    cur_heading_idx = int(np.round(-rot[1] * 180 / np.pi / self.cand_rot_angle)) % self.rot_num\n",
    "    cand_nodes = []\n",
    "    cand_angle = [-30, 0, 30]\n",
    "    self.local_mapper.reset_map()\n",
    "    depth_cm = depth * 100\n",
    "    pose_origin_for_map = (pos[0], pos[2], 0)  # (x, y, o)\n",
    "    pose_for_map = (pos[0], pos[2], rot[1])  # (x, y, o)\n",
    "    pose_on_map_cm = self.local_mapper.get_mapper_pose_from_sim_pose(pose_for_map, pose_origin_for_map)\n",
    "    pose_on_map = self.local_mapper.get_map_grid_from_sim_pose_cm(pose_on_map_cm)\n",
    "\n",
    "    ### get current local map ###\n",
    "    curr_local_map, curr_exp_map, _ = self.local_mapper.update_map(depth_cm, pose_on_map_cm)\n",
    "    curr_local_map = (skimage.morphology.binary_dilation(\n",
    "        curr_local_map, skimage.morphology.disk(2)\n",
    "    )== True).astype(float)\n",
    "\n",
    "    # text = goal_info['category_place']\n",
    "    rot_axis = np.array([0, 1, 0])\n",
    "    # head = -quaternion.as_rotation_vector(rot)[1] * 180 / np.pi\n",
    "\n",
    "    # for global coordinate\n",
    "    # turn left = positive angle\n",
    "    # free cand angle idx --> right side is positive\n",
    "    free_cand_nodes = np.zeros(12)\n",
    "    angle_bias = np.where(self.cand_angle == -30)[0][0]\n",
    "\n",
    "    for i, angle in enumerate(cand_angle):\n",
    "        rot_vec = rot + np.radians(-angle) * rot_axis\n",
    "        unit_vec = -np.array([np.sin(rot_vec[1]), 0, np.cos(rot_vec[1])])\n",
    "        cand_pos = pos + unit_vec * self.edge_range\n",
    "        cand_rot = rot_vec\n",
    "        cur_heading_idx = int(np.round(-rot_vec[1] * 180 / np.pi / self.cand_rot_angle)) % self.rot_num\n",
    "\n",
    "        ## map coordinate for checking free space\n",
    "        cand_pose_for_map = (cand_pos[0], cand_pos[2], rot_vec[1])\n",
    "        cand_pose_on_grid_map_cm = self.local_mapper.get_mapper_pose_from_sim_pose(cand_pose_for_map, pose_origin_for_map)\n",
    "        cand_pose_on_grid_map = self.local_mapper.get_map_grid_from_sim_pose_cm(cand_pose_on_grid_map_cm)\n",
    "        if self.local_mapper.is_traversable(curr_local_map, pose_on_map, cand_pose_on_grid_map):\n",
    "            cand_node_info = {'position': cand_pos, 'rotation': cand_rot, 'heading_idx': cur_heading_idx,\n",
    "                              'pose_on_map': cand_pose_on_grid_map, 'cand_edge': [],}\n",
    "\n",
    "            if self.vis_floorplan:\n",
    "                vis_rot_vec = rot_vec + self.abs_init_rotation\n",
    "                vis_unit_vec = -np.array([np.sin(vis_rot_vec[1]), 0, np.cos(vis_rot_vec[1])])\n",
    "                vis_cand_pos = vis_pos + vis_unit_vec * self.edge_range\n",
    "                cand_node_info['vis_position'] = vis_cand_pos\n",
    "\n",
    "            cand_node_info['next_node'] = None\n",
    "\n",
    "            cand_nodes.append(cand_node_info)\n",
    "            free_cand_nodes[angle_bias + i] = 1\n",
    "\n",
    "    # cand_nodes.append({'position': cand_pos, 'rotation': cand_rot})\n",
    "    #\n",
    "    pano_split_images = self.get_dirc_imgs_from_pano(pano_rgb)\n",
    "    cand_split_images = pano_split_images[np.where(free_cand_nodes == 1)[0]]\n",
    "\n",
    "    valid_cand_nodes = []\n",
    "    # similarity, cand_split_feat = self.common_sense_model.clip.get_text_image_sim(text, cand_split_images,\n",
    "    #                                                                               out_img_feat=True)\n",
    "    if len(cand_split_images) > 0:\n",
    "        cand_image_feat = self.common_sense_model.clip.get_image_feat(cand_split_images)\n",
    "        # cm_score, _ = self.common_sense_model.text_image_score(self.goal_place_text_feat, cand_image_feat, feat=True)\n",
    "        for i in range(len(cand_nodes)):\n",
    "            cand_nodes[i]['clip_feat'] = cand_image_feat[i]\n",
    "\n",
    "            for j in range(i + 1, len(cand_nodes)):\n",
    "                if self.local_mapper.is_traversable(curr_local_map, cand_nodes[i]['pose_on_map'],\n",
    "                                                    cand_nodes[j]['pose_on_map']):\n",
    "                    cand_nodes[i]['cand_edge'].append(j)\n",
    "\n",
    "            # if cand_nodes[i]['next_node'] is not None:\n",
    "            #     cand_nodes[i]['next_node']['clip_feat'] = cand_image_feat[i]\n",
    "            # cand_nodes[i]['cm_score'] = cm_score[i]\n",
    "            valid_cand_nodes.append(cand_nodes[i])\n",
    "\n",
    "    return valid_cand_nodes"
   ]
  }
 ],
 "metadata": {
  "kernelspec": {
   "display_name": "habitat",
   "language": "python",
   "name": "habitat"
  },
  "language_info": {
   "codemirror_mode": {
    "name": "ipython",
    "version": 3
   },
   "file_extension": ".py",
   "mimetype": "text/x-python",
   "name": "python",
   "nbconvert_exporter": "python",
   "pygments_lexer": "ipython3",
   "version": "3.7.13"
  }
 },
 "nbformat": 4,
 "nbformat_minor": 5
}
